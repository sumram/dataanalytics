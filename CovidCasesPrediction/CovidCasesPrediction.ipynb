{
 "cells": [
  {
   "cell_type": "code",
   "execution_count": null,
   "id": "cf3ed296",
   "metadata": {},
   "outputs": [],
   "source": [
    "import pandas as pd\n",
    "import numpy as np\n",
    "import matplotlib.pyplot as plt\n",
    "import plotly.express as px\n"
   ]
  },
  {
   "cell_type": "code",
   "execution_count": null,
   "id": "5b831468",
   "metadata": {},
   "outputs": [],
   "source": [
    "world = pd.DataFrame({\"Country\":[],\"Cases\":[]})\n",
    "world[\"Country\"] = df0.iloc[:,1:].columns\n",
    "cases = []\n",
    "for i in world[\"Country\"]:\n",
    "    cases.append(pd.to_numeric(df0[i][1:]).sum())\n",
    "world[\"Cases\"]=cases\n",
    "\n",
    "country_list=list(world[\"Country\"].values)\n",
    "idx = 0\n",
    "for i in country_list:\n",
    "    sayac = 0\n",
    "    for j in i:\n",
    "        if j==\".\":\n",
    "            i = i[:sayac]\n",
    "            country_list[idx]=i\n",
    "        elif j==\"(\":\n",
    "            i = i[:sayac-1]\n",
    "            country_list[idx]=i\n",
    "        else:\n",
    "            sayac += 1\n",
    "    idx += 1\n",
    "world[\"Country\"]=country_list\n",
    "world = world.groupby(\"Country\")[\"Cases\"].sum().reset_index()\n",
    "world.head()\n",
    "continent=pd.read_csv(\"continents2.csv\")\n",
    "continent[\"name\"]=continent[\"name\"].str.upper()"
   ]
  }
 ],
 "metadata": {
  "kernelspec": {
   "display_name": "Python 3",
   "language": "python",
   "name": "python3"
  },
  "language_info": {
   "codemirror_mode": {
    "name": "ipython",
    "version": 3
   },
   "file_extension": ".py",
   "mimetype": "text/x-python",
   "name": "python",
   "nbconvert_exporter": "python",
   "pygments_lexer": "ipython3",
   "version": "3.8.8"
  }
 },
 "nbformat": 4,
 "nbformat_minor": 5
}
